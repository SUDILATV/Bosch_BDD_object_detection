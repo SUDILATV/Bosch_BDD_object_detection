{
 "cells": [
  {
   "cell_type": "markdown",
   "metadata": {},
   "source": [
    "**Import packages**"
   ]
  },
  {
   "cell_type": "code",
   "execution_count": 1,
   "metadata": {
    "execution": {
     "iopub.execute_input": "2025-06-28T08:41:40.952072Z",
     "iopub.status.busy": "2025-06-28T08:41:40.951769Z",
     "iopub.status.idle": "2025-06-28T08:41:45.223351Z",
     "shell.execute_reply": "2025-06-28T08:41:45.222464Z",
     "shell.execute_reply.started": "2025-06-28T08:41:40.952040Z"
    }
   },
   "outputs": [],
   "source": [
    "import os\n",
    "import json\n",
    "from collections import Counter, defaultdict\n",
    "from PIL import Image, ImageDraw\n",
    "import matplotlib.pyplot as plt\n",
    "import seaborn as sns\n",
    "import random"
   ]
  },
  {
   "cell_type": "markdown",
   "metadata": {},
   "source": [
    "**I) DATA ANALYSIS**"
   ]
  },
  {
   "cell_type": "markdown",
   "metadata": {},
   "source": [
    "**I) 1.Check the file exist**"
   ]
  },
  {
   "cell_type": "code",
   "execution_count": 16,
   "metadata": {
    "execution": {
     "iopub.execute_input": "2025-06-28T08:54:31.508882Z",
     "iopub.status.busy": "2025-06-28T08:54:31.508567Z",
     "iopub.status.idle": "2025-06-28T08:54:31.531815Z",
     "shell.execute_reply": "2025-06-28T08:54:31.530477Z",
     "shell.execute_reply.started": "2025-06-28T08:54:31.508860Z"
    }
   },
   "outputs": [
    {
     "name": "stdout",
     "output_type": "stream",
     "text": [
      "\n",
      "=== File Check ===\n",
      "Train data json exists: True\n",
      "Val data json exists: True\n",
      "Train images folder exists: True\n",
      "Val images folder exists: True\n"
     ]
    }
   ],
   "source": [
    "\n",
    "train_json = \"/kaggle/input/detection-data/labels/bdd100k_labels_images_train.json\"\n",
    "val_json   = \"/kaggle/input/detection-data/labels/bdd100k_labels_images_val.json\"\n",
    "\n",
    "train_images_dir = \"/kaggle/input/detection-data/images/100k/train\"\n",
    "val_images_dir   = \"/kaggle/input/detection-data/images/100k/val\"\n",
    "\n",
    "print(\"\\n=== File Check ===\")\n",
    "print(\"Train data json exists:\", os.path.exists(train_json))\n",
    "print(\"Val data json exists:\", os.path.exists(val_json))\n",
    "print(\"Train images folder exists:\", os.path.exists(train_images_dir))\n",
    "print(\"Val images folder exists:\", os.path.exists(val_images_dir))"
   ]
  },
  {
   "cell_type": "markdown",
   "metadata": {},
   "source": [
    "**I) 2.Load the JSON Annotation Files**"
   ]
  },
  {
   "cell_type": "code",
   "execution_count": 3,
   "metadata": {
    "execution": {
     "iopub.execute_input": "2025-06-28T08:41:52.076438Z",
     "iopub.status.busy": "2025-06-28T08:41:52.076120Z",
     "iopub.status.idle": "2025-06-28T08:42:28.344040Z",
     "shell.execute_reply": "2025-06-28T08:42:28.343126Z",
     "shell.execute_reply.started": "2025-06-28T08:41:52.076414Z"
    }
   },
   "outputs": [
    {
     "name": "stdout",
     "output_type": "stream",
     "text": [
      "\n",
      " number of Loaded JSON: 69863 train frames, 10000 val frames\n"
     ]
    }
   ],
   "source": [
    "with open(train_json, 'r') as f:\n",
    "    train_data = json.load(f)\n",
    "\n",
    "with open(val_json, 'r') as f:\n",
    "    val_data = json.load(f)\n",
    "\n",
    "print(f\"\\n number of Loaded JSON: {len(train_data)} train frames, {len(val_data)} val frames\")"
   ]
  },
  {
   "cell_type": "markdown",
   "metadata": {},
   "source": [
    "**I) 3.Get the number of annotated datas**\n"
   ]
  },
  {
   "cell_type": "code",
   "execution_count": 4,
   "metadata": {
    "execution": {
     "iopub.execute_input": "2025-06-28T08:42:32.024018Z",
     "iopub.status.busy": "2025-06-28T08:42:32.023692Z",
     "iopub.status.idle": "2025-06-28T08:42:35.893067Z",
     "shell.execute_reply": "2025-06-28T08:42:35.892275Z",
     "shell.execute_reply.started": "2025-06-28T08:42:32.023998Z"
    }
   },
   "outputs": [
    {
     "name": "stdout",
     "output_type": "stream",
     "text": [
      "\n",
      "Number of objects present in Train data: 1941237\n",
      "Number of objects present in the Val datas: 279237\n"
     ]
    }
   ],
   "source": [
    "train_records = []\n",
    "for frame in train_data:\n",
    "    img_name = frame['name']\n",
    "    for label in frame['labels']:\n",
    "        train_records.append({\n",
    "            \"image\": img_name,\n",
    "            \"category\": label['category'],\n",
    "            \"box2d\": label.get('box2d', {})\n",
    "        })\n",
    "\n",
    "val_records = []\n",
    "for frame in val_data:\n",
    "    img_name = frame['name']\n",
    "    for label in frame['labels']:\n",
    "        val_records.append({\n",
    "            \"image\": img_name,\n",
    "            \"category\": label['category'],\n",
    "            \"box2d\": label.get('box2d', {})\n",
    "        })\n",
    "\n",
    "print(f\"\\nNumber of objects present in Train data: {len(train_records)}\")\n",
    "print(f\"Number of objects present in the Val datas: {len(val_records)}\")"
   ]
  },
  {
   "cell_type": "markdown",
   "metadata": {},
   "source": [
    "**I) 4. Check for missing datas & Check unique image counts in labels**"
   ]
  },
  {
   "cell_type": "code",
   "execution_count": 5,
   "metadata": {
    "execution": {
     "iopub.execute_input": "2025-06-28T08:42:39.080405Z",
     "iopub.status.busy": "2025-06-28T08:42:39.080043Z",
     "iopub.status.idle": "2025-06-28T08:42:40.374779Z",
     "shell.execute_reply": "2025-06-28T08:42:40.373554Z",
     "shell.execute_reply.started": "2025-06-28T08:42:39.080381Z"
    }
   },
   "outputs": [
    {
     "name": "stdout",
     "output_type": "stream",
     "text": [
      "Number of Unique images in TRAIN labels: 69863\n",
      "Number of Unique images in VAL labels: 10000\n",
      "Number of Actual image files in TRAIN folder: 70000\n",
      "Number of Actual image files in VAL folder: 10000\n",
      "\n",
      "TRAIN DATA INFO: Labeled but missing in folder: 0\n",
      "TRAIN DATA INFO: In folder but not labeled: 137\n",
      "\n",
      "VAL DATA INFO: Labeled but missing in folder: 0\n",
      "VAL DATA INFO: In folder but not labeled: 0\n"
     ]
    }
   ],
   "source": [
    "#unique labels\n",
    "unique_train_images_in_labels = set([r[\"image\"] for r in train_records])\n",
    "unique_val_images_in_labels = set([r[\"image\"] for r in val_records])\n",
    "\n",
    "# actual number of files in image folder\n",
    "actual_train_images = set(os.listdir(train_images_dir))\n",
    "actual_val_images = set(os.listdir(val_images_dir))\n",
    "\n",
    "\n",
    "print(f\"Number of Unique images in TRAIN labels: {len(unique_train_images_in_labels)}\")\n",
    "print(f\"Number of Unique images in VAL labels: {len(unique_val_images_in_labels)}\")\n",
    "print(f\"Number of Actual image files in TRAIN folder: {len(actual_train_images)}\")\n",
    "print(f\"Number of Actual image files in VAL folder: {len(actual_val_images)}\")\n",
    "\n",
    "# Check for mismatches/get the count missing datas\n",
    "missing_in_folder_train = unique_train_images_in_labels - actual_train_images\n",
    "missing_in_labels_train = actual_train_images - unique_train_images_in_labels\n",
    "\n",
    "missing_in_folder_val = unique_val_images_in_labels - actual_val_images\n",
    "missing_in_labels_val = actual_val_images - unique_val_images_in_labels\n",
    "\n",
    "print(f\"\\nTRAIN DATA INFO: Labeled but missing in folder: {len(missing_in_folder_train)}\")\n",
    "print(f\"TRAIN DATA INFO: In folder but not labeled: {len(missing_in_labels_train)}\")\n",
    "print(f\"\\nVAL DATA INFO: Labeled but missing in folder: {len(missing_in_folder_val)}\")\n",
    "print(f\"VAL DATA INFO: In folder but not labeled: {len(missing_in_labels_val)}\")\n"
   ]
  },
  {
   "cell_type": "markdown",
   "metadata": {},
   "source": [
    "**I) 5.Visualize the category/class distributions**"
   ]
  },
  {
   "cell_type": "code",
   "execution_count": 6,
   "metadata": {
    "execution": {
     "iopub.execute_input": "2025-06-28T08:42:49.529572Z",
     "iopub.status.busy": "2025-06-28T08:42:49.529232Z",
     "iopub.status.idle": "2025-06-28T08:42:50.729605Z",
     "shell.execute_reply": "2025-06-28T08:42:50.728653Z",
     "shell.execute_reply.started": "2025-06-28T08:42:49.529551Z"
    }
   },
   "outputs": [
    {
     "name": "stdout",
     "output_type": "stream",
     "text": [
      "\n",
      "Train category counts: Counter({'car': 713211, 'lane': 528643, 'traffic sign': 239686, 'traffic light': 186117, 'drivable area': 125723, 'person': 91349, 'truck': 29971, 'bus': 11672, 'bike': 7210, 'rider': 4517, 'motor': 3002, 'train': 136})\n",
      "Val category counts: Counter({'car': 102506, 'lane': 75730, 'traffic sign': 34908, 'traffic light': 26885, 'drivable area': 17981, 'person': 13262, 'truck': 4245, 'bus': 1597, 'bike': 1007, 'rider': 649, 'motor': 452, 'train': 15})\n"
     ]
    },
    {
     "name": "stderr",
     "output_type": "stream",
     "text": [
      "/usr/local/lib/python3.11/dist-packages/seaborn/_oldcore.py:1765: FutureWarning: unique with argument that is not not a Series, Index, ExtensionArray, or np.ndarray is deprecated and will raise in a future version.\n",
      "  order = pd.unique(vector)\n",
      "/usr/local/lib/python3.11/dist-packages/seaborn/_oldcore.py:1765: FutureWarning: unique with argument that is not not a Series, Index, ExtensionArray, or np.ndarray is deprecated and will raise in a future version.\n",
      "  order = pd.unique(vector)\n"
     ]
    },
    {
     "data": {
      "image/png": "[encoded data removed]",
      "text/plain": [
       "<Figure size 2000x600 with 2 Axes>"
      ]
     },
     "metadata": {},
     "output_type": "display_data"
    }
   ],
   "source": [
    "train_cat_counts = Counter([r[\"category\"] for r in train_records])\n",
    "val_cat_counts = Counter([r[\"category\"] for r in val_records])\n",
    "\n",
    "print(\"\\nTrain category counts:\", train_cat_counts)\n",
    "print(\"Val category counts:\", val_cat_counts)\n",
    "\n",
    "fig=plt.figure(figsize=(20,6))\n",
    "plt.subplot(1, 2, 1)\n",
    "sns.barplot(x=list(train_cat_counts.keys()), y=list(train_cat_counts.values()))\n",
    "plt.title(\"Train object category(class) distribution\")\n",
    "plt.xticks(rotation=45)\n",
    "plt.subplot(1, 2, 2)\n",
    "sns.barplot(x=list(val_cat_counts.keys()), y=list(val_cat_counts.values()))\n",
    "plt.title(\"Val objetc category(class) distribution\")\n",
    "plt.xticks(rotation=45)\n",
    "plt.tight_layout()\n",
    "plt.show()\n"
   ]
  },
  {
   "cell_type": "markdown",
   "metadata": {},
   "source": [
    "**Note: The initial distribution showed 12 unique classes in the dataset. \n",
    "To verify the expected number of classes, I searched online for the official class \n",
    "definitions used in BDD100K object detection and also reviewed the assignment\n",
    "document. Both sources confirmed that only 10 classes are required for this task.\n",
    "Based on that, I filtered and retained only the relevant 10 classes from the dataset.**\n",
    "\n"
   ]
  },
  {
   "cell_type": "markdown",
   "metadata": {},
   "source": [
    "**I) 6.get 10 Classes**"
   ]
  },
  {
   "cell_type": "code",
   "execution_count": 7,
   "metadata": {
    "execution": {
     "iopub.execute_input": "2025-06-28T08:42:59.146298Z",
     "iopub.status.busy": "2025-06-28T08:42:59.145697Z",
     "iopub.status.idle": "2025-06-28T08:42:59.637912Z",
     "shell.execute_reply": "2025-06-28T08:42:59.636714Z",
     "shell.execute_reply.started": "2025-06-28T08:42:59.146261Z"
    }
   },
   "outputs": [
    {
     "name": "stdout",
     "output_type": "stream",
     "text": [
      "\n",
      "Filtered train data objects (10-class): 1286871\n",
      "Filtered val data objects (10-class): 185526\n"
     ]
    }
   ],
   "source": [
    "bdd10_classes = [\n",
    "    'bike', 'bus', 'car', 'motor', 'person', 'rider',\n",
    "    'traffic light', 'traffic sign', 'train', 'truck'\n",
    "]\n",
    "\n",
    "train_records_10 = [r for r in train_records if r[\"category\"] in bdd10_classes]\n",
    "val_records_10   = [r for r in val_records if r[\"category\"] in bdd10_classes]\n",
    "\n",
    "print(f\"\\nFiltered train data objects (10-class): {len(train_records_10)}\")\n",
    "print(f\"Filtered val data objects (10-class): {len(val_records_10)}\")"
   ]
  },
  {
   "cell_type": "markdown",
   "metadata": {},
   "source": [
    "**I) 7. visualization**"
   ]
  },
  {
   "cell_type": "code",
   "execution_count": 8,
   "metadata": {
    "execution": {
     "iopub.execute_input": "2025-06-28T08:43:19.229813Z",
     "iopub.status.busy": "2025-06-28T08:43:19.229468Z",
     "iopub.status.idle": "2025-06-28T08:43:20.153497Z",
     "shell.execute_reply": "2025-06-28T08:43:20.152686Z",
     "shell.execute_reply.started": "2025-06-28T08:43:19.229787Z"
    }
   },
   "outputs": [
    {
     "name": "stderr",
     "output_type": "stream",
     "text": [
      "/usr/local/lib/python3.11/dist-packages/seaborn/_oldcore.py:1765: FutureWarning: unique with argument that is not not a Series, Index, ExtensionArray, or np.ndarray is deprecated and will raise in a future version.\n",
      "  order = pd.unique(vector)\n",
      "/usr/local/lib/python3.11/dist-packages/seaborn/_oldcore.py:1765: FutureWarning: unique with argument that is not not a Series, Index, ExtensionArray, or np.ndarray is deprecated and will raise in a future version.\n",
      "  order = pd.unique(vector)\n"
     ]
    },
    {
     "data": {
      "image/png": "[encoded data removed]",
      "text/plain": [
       "<Figure size 2000x600 with 2 Axes>"
      ]
     },
     "metadata": {},
     "output_type": "display_data"
    }
   ],
   "source": [
    "train_cat_counts_10 = Counter([r[\"category\"] for r in train_records_10])\n",
    "val_cat_counts_10 = Counter([r[\"category\"] for r in val_records_10])\n",
    "\n",
    "fig = plt.figure(figsize=(20, 6))\n",
    "plt.subplot(1, 2, 1)\n",
    "sns.barplot(x=list(train_cat_counts_10.keys()), y=list(train_cat_counts_10.values()))\n",
    "plt.title(\"Train Data Distribution\")\n",
    "plt.xticks(rotation=45)\n",
    "plt.grid(True)\n",
    "plt.subplot(1, 2, 2)\n",
    "sns.barplot(x=list(val_cat_counts_10.keys()), y=list(val_cat_counts_10.values()))\n",
    "plt.title(\"Val Data Distribution\")\n",
    "plt.xticks(rotation=45)\n",
    "plt.grid(True)\n",
    "plt.tight_layout()\n",
    "plt.show()\n"
   ]
  },
  {
   "cell_type": "markdown",
   "metadata": {},
   "source": [
    "**I) 8. Anomaly Detection-Missing datas**"
   ]
  },
  {
   "cell_type": "code",
   "execution_count": 10,
   "metadata": {
    "execution": {
     "iopub.execute_input": "2025-06-28T08:43:50.792809Z",
     "iopub.status.busy": "2025-06-28T08:43:50.792508Z",
     "iopub.status.idle": "2025-06-28T08:43:50.800803Z",
     "shell.execute_reply": "2025-06-28T08:43:50.799399Z",
     "shell.execute_reply.started": "2025-06-28T08:43:50.792790Z"
    }
   },
   "outputs": [
    {
     "name": "stdout",
     "output_type": "stream",
     "text": [
      "Missing classes in train: set()\n",
      "Missing classes in val: set()\n",
      "Low-frequency classes in train (count < 1000):\n",
      "rider: 4517\n",
      "bike: 7210\n",
      "motor: 3002\n",
      "train: 136\n"
     ]
    }
   ],
   "source": [
    "missing_train_classes = set(bdd10_classes) - set(train_cat_counts_10.keys())\n",
    "missing_val_classes = set(bdd10_classes) - set(val_cat_counts_10.keys())\n",
    "\n",
    "print(\"Missing classes in train:\", missing_train_classes)\n",
    "print(\"Missing classes in val:\", missing_val_classes)\n",
    "\n",
    "#least class check\n",
    "print(\"Low-frequency classes in train (count < 1000):\")\n",
    "for cls, count in train_cat_counts_10.items():\n",
    "    if count < 10000:\n",
    "        print(f\"{cls}: {count}\")\n"
   ]
  },
  {
   "cell_type": "markdown",
   "metadata": {},
   "source": [
    "**Model Training: Setup YoloV8 datas**"
   ]
  },
  {
   "cell_type": "code",
   "execution_count": 11,
   "metadata": {
    "execution": {
     "iopub.execute_input": "2025-06-28T08:44:27.980033Z",
     "iopub.status.busy": "2025-06-28T08:44:27.979744Z",
     "iopub.status.idle": "2025-06-28T08:44:27.988545Z",
     "shell.execute_reply": "2025-06-28T08:44:27.987369Z",
     "shell.execute_reply.started": "2025-06-28T08:44:27.980015Z"
    }
   },
   "outputs": [],
   "source": [
    "#Step 1: Setup Clean Directory\n",
    "\n",
    "import os\n",
    "\n",
    "\n",
    "base_dir = \"/kaggle/working/bdd10_yolo_ready\"\n",
    "\n",
    "image_train_dir = os.path.join(base_dir, \"images/train\")\n",
    "image_val_dir   = os.path.join(base_dir, \"images/val\")\n",
    "label_train_dir = os.path.join(base_dir, \"labels/train\")\n",
    "label_val_dir   = os.path.join(base_dir, \"labels/val\")\n",
    "\n",
    "for d in [image_train_dir, image_val_dir, label_train_dir, label_val_dir]:\n",
    "    os.makedirs(d, exist_ok=True)\n",
    "\n",
    "# Class name to ID map\n",
    "bdd10_classes = [\n",
    "    'bike', 'bus', 'car', 'motor', 'person', 'rider',\n",
    "    'traffic light', 'traffic sign', 'train', 'truck'\n",
    "]\n",
    "class_to_id = {cls: i for i, cls in enumerate(bdd10_classes)}\n"
   ]
  },
  {
   "cell_type": "code",
   "execution_count": 12,
   "metadata": {
    "execution": {
     "iopub.execute_input": "2025-06-28T08:45:21.965774Z",
     "iopub.status.busy": "2025-06-28T08:45:21.965335Z",
     "iopub.status.idle": "2025-06-28T08:45:21.975408Z",
     "shell.execute_reply": "2025-06-28T08:45:21.974327Z",
     "shell.execute_reply.started": "2025-06-28T08:45:21.965748Z"
    }
   },
   "outputs": [],
   "source": [
    "#Step 2: Convert BDD JSON to YOLO Format\n",
    "import shutil\n",
    "\n",
    "def convert_records_to_yolo(records, image_out_dir, label_out_dir):\n",
    "    from collections import defaultdict\n",
    "\n",
    "    # Group annotations by image\n",
    "    grouped = defaultdict(list)\n",
    "    for r in records:\n",
    "        grouped[r[\"image_path\"]].append(r)\n",
    "\n",
    "    for img_path, objs in grouped.items():\n",
    "        fname = os.path.basename(img_path)\n",
    "        name_no_ext = os.path.splitext(fname)[0]\n",
    "        label_path = os.path.join(label_out_dir, name_no_ext + \".txt\")\n",
    "        out_img_path = os.path.join(image_out_dir, fname)\n",
    "\n",
    "        # Copy image\n",
    "        try:\n",
    "            shutil.copy(img_path, out_img_path)\n",
    "        except Exception as e:\n",
    "            print(f\"Error copying image {img_path}: {e}\")\n",
    "            continue\n",
    "\n",
    "        with open(label_path, \"w\") as f:\n",
    "            for r in objs:\n",
    "                cls_id = class_to_id[r[\"category\"]]\n",
    "                x, y, w, h = r[\"bbox\"]\n",
    "                img_w, img_h = r[\"width\"], r[\"height\"]\n",
    "\n",
    "                # Convert to YOLO format\n",
    "                x_center = (x + w / 2) / img_w\n",
    "                y_center = (y + h / 2) / img_h\n",
    "                norm_w = w / img_w\n",
    "                norm_h = h / img_h\n",
    "\n",
    "                f.write(f\"{cls_id} {x_center:.6f} {y_center:.6f} {norm_w:.6f} {norm_h:.6f}\\n\")\n"
   ]
  },
  {
   "cell_type": "code",
   "execution_count": 18,
   "metadata": {
    "execution": {
     "iopub.execute_input": "2025-06-28T08:58:13.156289Z",
     "iopub.status.busy": "2025-06-28T08:58:13.155869Z",
     "iopub.status.idle": "2025-06-28T09:16:38.346860Z",
     "shell.execute_reply": "2025-06-28T09:16:38.345525Z",
     "shell.execute_reply.started": "2025-06-28T08:58:13.156258Z"
    }
   },
   "outputs": [
    {
     "name": "stdout",
     "output_type": "stream",
     "text": [
      "✅ JSON to YOLO conversion complete.\n",
      "Labels saved in: /kaggle/working/bdd10_yolo_ready/labels\n",
      "Images saved in: /kaggle/working/bdd10_yolo_ready/images\n"
     ]
    }
   ],
   "source": [
    "import os, json, shutil\n",
    "from collections import defaultdict\n",
    "\n",
    "# STEP 1: Configuration\n",
    "train_images_dir = \"/kaggle/input/detection-data/images/100k/train\"\n",
    "val_images_dir   = \"/kaggle/input/detection-data/images/100k/val\"\n",
    "train_json_path  = \"/kaggle/input/detection-data/labels/bdd100k_labels_images_train.json\"\n",
    "val_json_path    = \"/kaggle/input/detection-data/labels/bdd100k_labels_images_val.json\"\n",
    "output_base      = \"/kaggle/working/bdd10_yolo_ready\"\n",
    "\n",
    "# STEP 2: YOLOv8 folder structure\n",
    "image_train_dir = os.path.join(output_base, \"images/train\")\n",
    "image_val_dir   = os.path.join(output_base, \"images/val\")\n",
    "label_train_dir = os.path.join(output_base, \"labels/train\")\n",
    "label_val_dir   = os.path.join(output_base, \"labels/val\")\n",
    "for d in [image_train_dir, image_val_dir, label_train_dir, label_val_dir]:\n",
    "    os.makedirs(d, exist_ok=True)\n",
    "\n",
    "# STEP 3: BDD100K 10-Class Setup\n",
    "bdd10_classes = [\n",
    "    'bike', 'bus', 'car', 'motor', 'person', 'rider',\n",
    "    'traffic light', 'traffic sign', 'train', 'truck'\n",
    "]\n",
    "class_to_id = {cls: i for i, cls in enumerate(bdd10_classes)}\n",
    "\n",
    "# STEP 4: Parse BDD100K \"labels\" format JSON\n",
    "def load_bdd_label_json(json_path, image_dir):\n",
    "    with open(json_path, \"r\") as f:\n",
    "        data = json.load(f)\n",
    "\n",
    "    records = []\n",
    "    for item in data:\n",
    "        if \"labels\" not in item:\n",
    "            continue\n",
    "        name = item[\"name\"]\n",
    "        width = item.get(\"width\", 1280)\n",
    "        height = item.get(\"height\", 720)\n",
    "        for obj in item[\"labels\"]:\n",
    "            category = obj.get(\"category\")\n",
    "            box2d = obj.get(\"box2d\")\n",
    "            if category in bdd10_classes and box2d:\n",
    "                x1, y1 = box2d[\"x1\"], box2d[\"y1\"]\n",
    "                x2, y2 = box2d[\"x2\"], box2d[\"y2\"]\n",
    "                bbox = [x1, y1, x2 - x1, y2 - y1]\n",
    "                records.append({\n",
    "                    \"category\": category,\n",
    "                    \"bbox\": bbox,\n",
    "                    \"width\": width,\n",
    "                    \"height\": height,\n",
    "                    \"name\": name,\n",
    "                    \"image_path\": os.path.join(image_dir, name)\n",
    "                })\n",
    "    return records\n",
    "\n",
    "# Load both train and val data\n",
    "train_records_10 = load_bdd_label_json(train_json_path, train_images_dir)\n",
    "val_records_10   = load_bdd_label_json(val_json_path, val_images_dir)\n",
    "\n",
    "# STEP 5: Convert to YOLO format & copy image\n",
    "def convert_records_to_yolo(records, image_out_dir, label_out_dir, class_to_id):\n",
    "    grouped = defaultdict(list)\n",
    "    for r in records:\n",
    "        grouped[r[\"image_path\"]].append(r)\n",
    "\n",
    "    for img_path, objs in grouped.items():\n",
    "        fname = os.path.basename(img_path)\n",
    "        name_no_ext = os.path.splitext(fname)[0]\n",
    "        label_path = os.path.join(label_out_dir, name_no_ext + \".txt\")\n",
    "        out_img_path = os.path.join(image_out_dir, fname)\n",
    "\n",
    "        try:\n",
    "            shutil.copy(img_path, out_img_path)\n",
    "        except Exception as e:\n",
    "            print(f\" Failed to copy image: {img_path}\\n{e}\")\n",
    "            continue\n",
    "\n",
    "        with open(label_path, \"w\") as f:\n",
    "            for r in objs:\n",
    "                cls_id = class_to_id[r[\"category\"]]\n",
    "                x, y, w, h = r[\"bbox\"]\n",
    "                img_w, img_h = r[\"width\"], r[\"height\"]\n",
    "\n",
    "                # Convert to YOLO format\n",
    "                x_center = (x + w / 2) / img_w\n",
    "                y_center = (y + h / 2) / img_h\n",
    "                norm_w = w / img_w\n",
    "                norm_h = h / img_h\n",
    "\n",
    "                f.write(f\"{cls_id} {x_center:.6f} {y_center:.6f} {norm_w:.6f} {norm_h:.6f}\\n\")\n",
    "\n",
    "# STEP 6: Perform the conversion\n",
    "convert_records_to_yolo(train_records_10, image_train_dir, label_train_dir, class_to_id)\n",
    "convert_records_to_yolo(val_records_10, image_val_dir, label_val_dir, class_to_id)\n",
    "\n",
    "print(\"✅ JSON to YOLO conversion complete.\")\n",
    "print(f\"Labels saved in: {os.path.join(output_base, 'labels')}\")\n",
    "print(f\"Images saved in: {os.path.join(output_base, 'images')}\")\n"
   ]
  },
  {
   "cell_type": "code",
   "execution_count": 19,
   "metadata": {
    "execution": {
     "iopub.execute_input": "2025-06-28T09:19:38.795076Z",
     "iopub.status.busy": "2025-06-28T09:19:38.793345Z",
     "iopub.status.idle": "2025-06-28T09:19:38.802754Z",
     "shell.execute_reply": "2025-06-28T09:19:38.801750Z",
     "shell.execute_reply.started": "2025-06-28T09:19:38.795021Z"
    }
   },
   "outputs": [
    {
     "name": "stdout",
     "output_type": "stream",
     "text": [
      "✅ data.yaml created at: /kaggle/working/bdd10_yolo_ready/data.yaml\n"
     ]
    }
   ],
   "source": [
    "bdd10_classes = [\n",
    "    'bike', 'bus', 'car', 'motor', 'person', 'rider',\n",
    "    'traffic light', 'traffic sign', 'train', 'truck'\n",
    "]\n",
    "\n",
    "data_yaml_content = f\"\"\"\n",
    "path: /kaggle/working/bdd10_yolo_ready\n",
    "train: images/train\n",
    "val: images/val\n",
    "nc: 10\n",
    "names: {bdd10_classes}\n",
    "\"\"\"\n",
    "\n",
    "# Save to file\n",
    "yaml_path = \"/kaggle/working/bdd10_yolo_ready/data.yaml\"\n",
    "with open(yaml_path, \"w\") as f:\n",
    "    f.write(data_yaml_content.strip())\n",
    "\n",
    "print(f\"✅ data.yaml created at: {yaml_path}\")\n"
   ]
  },
  {
   "cell_type": "code",
   "execution_count": null,
   "metadata": {
    "execution": {
     "execution_failed": "2025-06-28T09:31:38.643Z",
     "iopub.execute_input": "2025-06-28T09:30:47.432658Z",
     "iopub.status.busy": "2025-06-28T09:30:47.432401Z"
    }
   },
   "outputs": [
    {
     "name": "stdout",
     "output_type": "stream",
     "text": [
      "\u001b[33mWARNING: Retrying (Retry(total=4, connect=None, read=None, redirect=None, status=None)) after connection broken by 'NewConnectionError('<pip._vendor.urllib3.connection.HTTPSConnection object at 0x7aff99ceba90>: Failed to establish a new connection: [Errno -3] Temporary failure in name resolution')': /simple/ultralytics/\u001b[0m\u001b[33m\n",
      "\u001b[0m"
     ]
    }
   ],
   "source": [
    "!pip install ultralytics"
   ]
  },
  {
   "cell_type": "code",
   "execution_count": null,
   "metadata": {},
   "outputs": [],
   "source": []
  },
  {
   "cell_type": "markdown",
   "metadata": {},
   "source": [
    "**Model Training Usng Yolov8 including all dataset**"
   ]
  },
  {
   "cell_type": "code",
   "execution_count": null,
   "metadata": {},
   "outputs": [],
   "source": [
    "from ultralytics import YOLO\n",
    "\n",
    "# Step 2: Define model\n",
    "model = YOLO('yolov8n.yaml')  \n",
    "\n",
    "# Step 3: Train the model\n",
    "model.train(\n",
    "    data='/kaggle/working/bdd10_yolo_ready/data.yaml',\n",
    "    epochs=50,\n",
    "    imgsz=640,\n",
    "    batch=16,\n",
    "    device=0  \n",
    ")\n"
   ]
  },
  {
   "cell_type": "markdown",
   "metadata": {},
   "source": []
  },
  {
   "cell_type": "code",
   "execution_count": 2,
   "metadata": {
    "execution": {
     "iopub.execute_input": "2025-06-28T09:43:05.025582Z",
     "iopub.status.busy": "2025-06-28T09:43:05.024572Z",
     "iopub.status.idle": "2025-06-28T09:43:05.032111Z",
     "shell.execute_reply": "2025-06-28T09:43:05.030777Z",
     "shell.execute_reply.started": "2025-06-28T09:43:05.025516Z"
    }
   },
   "outputs": [
    {
     "name": "stdout",
     "output_type": "stream",
     "text": [
      "CUDA Available: False\n"
     ]
    }
   ],
   "source": [
    "import torch\n",
    "print(\"CUDA Available:\", torch.cuda.is_available())\n",
    "if torch.cuda.is_available():\n",
    "    print(\"GPU Name:\", torch.cuda.get_device_name(0))\n"
   ]
  },
  {
   "cell_type": "code",
   "execution_count": null,
   "metadata": {},
   "outputs": [],
   "source": []
  },
  {
   "cell_type": "markdown",
   "metadata": {},
   "source": [
    "**I used the same procedures to run the code on both Kaggle and Google Colab; only the file paths were different. Due to GPU availability issues, I couldn't complete the training. So, I am presenting the approach I followed for the given assignment.\n",
    "The code below is used to train images in small batches. In this case as well, I couldn't complete the training. To reuse the code, the paths need to be modified based on the user's setup**"
   ]
  },
  {
   "cell_type": "code",
   "execution_count": null,
   "metadata": {},
   "outputs": [],
   "source": []
  },
  {
   "cell_type": "markdown",
   "metadata": {},
   "source": [
    "**Model Training using batch of dataset--Tried extra step in colab**"
   ]
  },
  {
   "cell_type": "code",
   "execution_count": null,
   "metadata": {},
   "outputs": [],
   "source": [
    "import os\n",
    "import glob\n",
    "import yaml\n",
    "\n",
    "# Your original dataset paths\n",
    "train_image_dir = \"/content/drive/MyDrive/bdd10_yolo_ready/bdd100k_images_100k/bdd100k/images/100k/train\"\n",
    "train_label_dir = \"/content/drive/MyDrive/bdd10_yolo_ready/bdd100k_images_100k/bdd100k/labels/train\"\n",
    "val_image_dir   = \"/content/drive/MyDrive/bdd10_yolo_ready/bdd100k_images_100k/bdd100k/images/100k/val\"\n",
    "val_label_dir   = \"/content/drive/MyDrive/bdd10_yolo_ready/bdd100k_images_100k/bdd100k/labels/val\"\n",
    "\n",
    "data_yaml_path  = \"/content/drive/MyDrive/data.yaml\"\n",
    "batch_txt_dir   = \"/content/drive/MyDrive/yolos/batch_txts\"  # temp lists\n",
    "os.makedirs(batch_txt_dir, exist_ok=True)\n",
    "\n",
    "# Get full list of images\n",
    "image_list = sorted(glob.glob(os.path.join(train_image_dir, \"*.jpg\")))\n",
    "label_list = sorted(glob.glob(os.path.join(train_label_dir, \"*.txt\")))\n",
    "assert len(image_list) == len(label_list), \"Mismatch in image-label count!\"\n",
    "\n",
    "batch_size = 100\n",
    "num_batches = (len(image_list) + batch_size - 1) // batch_size\n",
    "\n",
    "print(f\"Found {len(image_list)} training images, splitting into {num_batches} batches\")\n",
    "\n",
    "# Class names\n",
    "class_names = ['bike', 'bus', 'car', 'motor', 'person', 'rider', 'traffic light', 'traffic sign', 'train', 'truck']\n",
    "\n",
    "#Train each batch without copying data\n",
    "prev_model = \"yolov8n.pt\"\n",
    "\n",
    "for i in range(num_batches):\n",
    "    start_idx = i * batch_size\n",
    "    end_idx = min((i + 1) * batch_size, len(image_list))\n",
    "    batch_imgs = image_list[start_idx:end_idx]\n",
    "\n",
    "    # Generate image list file (YOLOv8 supports txt listing)\n",
    "    batch_txt_path = os.path.join(batch_txt_dir, f\"batch{i+1}.txt\")\n",
    "    with open(batch_txt_path, 'w') as f:\n",
    "        for img_path in batch_imgs:\n",
    "            f.write(img_path + '\\n')\n",
    "\n",
    "    # Generate temporary data.yaml for current batch\n",
    "    data_yaml = {\n",
    "        \"path\": \"\",  # not used with txt list\n",
    "        \"train\": batch_txt_path,\n",
    "        \"val\": val_image_dir,\n",
    "        \"names\": class_names\n",
    "    }\n",
    "\n",
    "    with open(data_yaml_path, 'w') as f:\n",
    "        yaml.dump(data_yaml, f)\n",
    "\n",
    "    run_name = f\"batch_{i+1}\"\n",
    "    print(f\"\\n Training batch {i+1} ({len(batch_imgs)} images) using weights: {prev_model}\")\n",
    "\n",
    "    # Train with current batch\n",
    "    !yolo task=detect mode=train model={prev_model} data={data_yaml_path} epochs=5 imgsz=640 name={run_name}\n",
    "\n",
    "    # Update model path for next batch\n",
    "    prev_model = f\"runs/detect/{run_name}/weights/best.pt\"\n"
   ]
  },
  {
   "cell_type": "markdown",
   "metadata": {},
   "source": [
    "**Due to the training failure, I was unable to perform metrics evaluation and testing**"
   ]
  },
  {
   "cell_type": "code",
   "execution_count": null,
   "metadata": {},
   "outputs": [],
   "source": []
  }
 ],
 "metadata": {
  "kaggle": {
   "accelerator": "none",
   "dataSources": [
    {
     "datasetId": 7755809,
     "sourceId": 12304600,
     "sourceType": "datasetVersion"
    }
   ],
   "dockerImageVersionId": 31040,
   "isGpuEnabled": false,
   "isInternetEnabled": false,
   "language": "python",
   "sourceType": "notebook"
  },
  "kernelspec": {
   "display_name": "Python 3 (ipykernel)",
   "language": "python",
   "name": "python3"
  },
  "language_info": {
   "codemirror_mode": {
    "name": "ipython",
    "version": 3
   },
   "file_extension": ".py",
   "mimetype": "text/x-python",
   "name": "python",
   "nbconvert_exporter": "python",
   "pygments_lexer": "ipython3",
   "version": "3.13.2"
  }
 },
 "nbformat": 4,
 "nbformat_minor": 4
}
